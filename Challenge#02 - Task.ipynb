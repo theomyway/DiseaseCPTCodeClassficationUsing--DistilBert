{
 "cells": [
  {
   "cell_type": "markdown",
   "id": "0a11ca01",
   "metadata": {},
   "source": [
    "# Approach (FuzzyLogic)"
   ]
  },
  {
   "cell_type": "code",
   "execution_count": 3,
   "id": "d8ec763c",
   "metadata": {},
   "outputs": [
    {
     "data": {
      "text/html": [
       "<div>\n",
       "<style scoped>\n",
       "    .dataframe tbody tr th:only-of-type {\n",
       "        vertical-align: middle;\n",
       "    }\n",
       "\n",
       "    .dataframe tbody tr th {\n",
       "        vertical-align: top;\n",
       "    }\n",
       "\n",
       "    .dataframe thead th {\n",
       "        text-align: right;\n",
       "    }\n",
       "</style>\n",
       "<table border=\"1\" class=\"dataframe\">\n",
       "  <thead>\n",
       "    <tr style=\"text-align: right;\">\n",
       "      <th></th>\n",
       "      <th>Code</th>\n",
       "      <th>Disease</th>\n",
       "    </tr>\n",
       "  </thead>\n",
       "  <tbody>\n",
       "    <tr>\n",
       "      <th>0</th>\n",
       "      <td>86152</td>\n",
       "      <td>Cell enumeration id</td>\n",
       "    </tr>\n",
       "    <tr>\n",
       "      <th>1</th>\n",
       "      <td>86153</td>\n",
       "      <td>Cell enumeration phys interp</td>\n",
       "    </tr>\n",
       "    <tr>\n",
       "      <th>2</th>\n",
       "      <td>86890</td>\n",
       "      <td>Autologous blood process</td>\n",
       "    </tr>\n",
       "    <tr>\n",
       "      <th>3</th>\n",
       "      <td>86891</td>\n",
       "      <td>Autologous blood op salvage</td>\n",
       "    </tr>\n",
       "    <tr>\n",
       "      <th>4</th>\n",
       "      <td>86927</td>\n",
       "      <td>Plasma fresh frozen</td>\n",
       "    </tr>\n",
       "  </tbody>\n",
       "</table>\n",
       "</div>"
      ],
      "text/plain": [
       "    Code                       Disease\n",
       "0  86152           Cell enumeration id\n",
       "1  86153  Cell enumeration phys interp\n",
       "2  86890      Autologous blood process\n",
       "3  86891   Autologous blood op salvage\n",
       "4  86927           Plasma fresh frozen"
      ]
     },
     "execution_count": 3,
     "metadata": {},
     "output_type": "execute_result"
    }
   ],
   "source": [
    "df.head()"
   ]
  },
  {
   "cell_type": "code",
   "execution_count": null,
   "id": "2ff413fb",
   "metadata": {},
   "outputs": [],
   "source": [
    "\n",
    "import pandas as pd\n",
    "from transformers import GPT2LMHeadModel, GPT2Tokenizer\n",
    "from fuzzywuzzy import fuzz\n",
    "\n",
    "# Load the CSV file into a DataFrame\n",
    "df = pd.read_csv(\"disease.csv\")\n",
    "\n",
    "# Create a dictionary to map disease names to their codes\n",
    "disease_name_to_code = dict(zip(df[\"disease\"], df[\"diseaseid\"]))\n",
    "\n",
    "# Load the pre-trained GPT-2 model and tokenizer\n",
    "model = GPT2LMHeadModel.from_pretrained(\"gpt2\")\n",
    "tokenizer = GPT2Tokenizer.from_pretrained(\"gpt2\")\n",
    "\n",
    "# User-provided input string\n",
    "user_input = \"Im having a severe head fresh ache seems like Plasma cell\"\n",
    "\n",
    "# Initialize variables to keep track of the best match\n",
    "best_match_ratio = 0\n",
    "best_matching_disease_code = None\n",
    "\n",
    "# Tokenize the input string\n",
    "input_ids = tokenizer.encode(user_input, return_tensors=\"pt\")\n",
    "\n",
    "# Search for the best-matching disease name within the input string\n",
    "for disease_name in disease_name_to_code:\n",
    "    match_ratio = fuzz.ratio(disease_name.lower(), user_input.lower())\n",
    "    if match_ratio > best_match_ratio:\n",
    "        best_match_ratio = match_ratio\n",
    "        best_matching_disease_code = disease_name_to_code[disease_name]\n",
    "\n",
    "# Generate a response with the best-matching disease code\n",
    "if best_matching_disease_code:\n",
    "    response = f\"The best-matching disease code for your symptoms is: {best_matching_disease_code}.\"\n",
    "else:\n",
    "    response = \"I couldn't find a best-matching disease code for your symptoms.\"\n",
    "\n",
    "# Tokenize the response\n",
    "response_ids = tokenizer.encode(response, return_tensors=\"pt\")\n",
    "\n",
    "# Generate a model response\n",
    "output = model.generate(response_ids, max_length=100, num_return_sequences=1, no_repeat_ngram_size=2, top_k=50, top_p=0.95)\n",
    "\n",
    "# Extract and decode the generated response\n",
    "generated_response = tokenizer.decode(output[0], skip_special_tokens=True)\n",
    "\n",
    "# Print the generated response\n",
    "print(\"Generated Response:\")\n",
    "print(generated_response)\n"
   ]
  },
  {
   "cell_type": "code",
   "execution_count": null,
   "id": "915f8e69",
   "metadata": {},
   "outputs": [],
   "source": [
    "df.head()"
   ]
  },
  {
   "cell_type": "markdown",
   "id": "c34f9583",
   "metadata": {},
   "source": [
    "# CURRENT (Max Word Approach) --> Working"
   ]
  },
  {
   "cell_type": "code",
   "execution_count": 6,
   "id": "c88e621e",
   "metadata": {},
   "outputs": [
    {
     "name": "stderr",
     "output_type": "stream",
     "text": [
      "C:\\Users\\omar.khan\\AppData\\Local\\anaconda3\\Lib\\site-packages\\transformers\\generation\\configuration_utils.py:367: UserWarning: `do_sample` is set to `False`. However, `top_p` is set to `0.95` -- this flag is only used in sample-based generation modes. You should set `do_sample=True` or unset `top_p`.\n",
      "  warnings.warn(\n",
      "The attention mask and the pad token id were not set. As a consequence, you may observe unexpected behavior. Please pass your input's `attention_mask` to obtain reliable results.\n",
      "Setting `pad_token_id` to `eos_token_id`:50256 for open-end generation.\n"
     ]
    },
    {
     "name": "stdout",
     "output_type": "stream",
     "text": [
      "Generated Response:\n",
      "The disease code with the most matched words is: 86891.\n",
      "\n",
      "The most common form of the disease is the \"C\" word. The most commonly used form is \"D\" or \"E\" in the English language. In the United States, the word \"disease\" is used in a number of different ways. For example, in English, it is called \"cervical cancer\" because it causes a \"cancerous tumor\" on the cervix. It is\n"
     ]
    }
   ],
   "source": [
    "import pandas as pd\n",
    "from transformers import GPT2LMHeadModel, GPT2Tokenizer\n",
    "\n",
    "\n",
    "df = pd.read_csv(\"diseaseOne.csv\")\n",
    "\n",
    "\n",
    "disease_name_to_code = dict(zip(df[\"Disease\"], df[\"Code\"]))\n",
    "\n",
    "\n",
    "model = GPT2LMHeadModel.from_pretrained(\"gpt2\")\n",
    "tokenizer = GPT2Tokenizer.from_pretrained(\"gpt2\")\n",
    "\n",
    "\n",
    "user_input = \"Im having fever and i hate my Autologous blood op salvage life Plasma fresh and he is enumeration also good blood process\"\n",
    "\n",
    "\n",
    "max_matched_words = 0\n",
    "best_matching_disease_code = None\n",
    "\n",
    "\n",
    "user_input_tokens = user_input.lower().split()\n",
    "\n",
    "\n",
    "for disease_name, disease_id in disease_name_to_code.items():\n",
    "    disease_tokens = disease_name.lower().split()\n",
    "    matched_words = len(set(user_input_tokens).intersection(disease_tokens))\n",
    "    if matched_words > max_matched_words:\n",
    "        max_matched_words = matched_words\n",
    "        best_matching_disease_code = disease_id\n",
    "\n",
    "\n",
    "if best_matching_disease_code:\n",
    "    response = f\"The disease code with the most matched words is: {best_matching_disease_code}.\"\n",
    "else:\n",
    "    response = \"I couldn't find a matching disease code for your symptoms.\"\n",
    "\n",
    "\n",
    "response_ids = tokenizer.encode(response, return_tensors=\"pt\")\n",
    "\n",
    "\n",
    "output = model.generate(response_ids, max_length=100, num_return_sequences=1, no_repeat_ngram_size=2, top_k=50, top_p=0.95)\n",
    "\n",
    "\n",
    "generated_response = tokenizer.decode(output[0], skip_special_tokens=True)\n",
    "\n",
    "\n",
    "print(\"Generated Response:\")\n",
    "print(generated_response)\n"
   ]
  },
  {
   "cell_type": "code",
   "execution_count": 4,
   "id": "9b79d154",
   "metadata": {},
   "outputs": [
    {
     "data": {
      "text/html": [
       "<div>\n",
       "<style scoped>\n",
       "    .dataframe tbody tr th:only-of-type {\n",
       "        vertical-align: middle;\n",
       "    }\n",
       "\n",
       "    .dataframe tbody tr th {\n",
       "        vertical-align: top;\n",
       "    }\n",
       "\n",
       "    .dataframe thead th {\n",
       "        text-align: right;\n",
       "    }\n",
       "</style>\n",
       "<table border=\"1\" class=\"dataframe\">\n",
       "  <thead>\n",
       "    <tr style=\"text-align: right;\">\n",
       "      <th></th>\n",
       "      <th>Code</th>\n",
       "      <th>Disease</th>\n",
       "    </tr>\n",
       "  </thead>\n",
       "  <tbody>\n",
       "    <tr>\n",
       "      <th>0</th>\n",
       "      <td>86152</td>\n",
       "      <td>Cell enumeration id</td>\n",
       "    </tr>\n",
       "    <tr>\n",
       "      <th>1</th>\n",
       "      <td>86153</td>\n",
       "      <td>Cell enumeration phys interp</td>\n",
       "    </tr>\n",
       "    <tr>\n",
       "      <th>2</th>\n",
       "      <td>86890</td>\n",
       "      <td>Autologous blood process</td>\n",
       "    </tr>\n",
       "    <tr>\n",
       "      <th>3</th>\n",
       "      <td>86891</td>\n",
       "      <td>Autologous blood op salvage</td>\n",
       "    </tr>\n",
       "    <tr>\n",
       "      <th>4</th>\n",
       "      <td>86927</td>\n",
       "      <td>Plasma fresh frozen</td>\n",
       "    </tr>\n",
       "    <tr>\n",
       "      <th>...</th>\n",
       "      <td>...</td>\n",
       "      <td>...</td>\n",
       "    </tr>\n",
       "    <tr>\n",
       "      <th>462</th>\n",
       "      <td>73650</td>\n",
       "      <td>X-ray exam of heel</td>\n",
       "    </tr>\n",
       "    <tr>\n",
       "      <th>463</th>\n",
       "      <td>73660</td>\n",
       "      <td>X-ray exam of toe(s)</td>\n",
       "    </tr>\n",
       "    <tr>\n",
       "      <th>464</th>\n",
       "      <td>73700</td>\n",
       "      <td>Ct lower extremity w/o dye</td>\n",
       "    </tr>\n",
       "    <tr>\n",
       "      <th>465</th>\n",
       "      <td>73701</td>\n",
       "      <td>Ct lower extremity w/dye</td>\n",
       "    </tr>\n",
       "    <tr>\n",
       "      <th>466</th>\n",
       "      <td>73702</td>\n",
       "      <td>Ct lwr extremity w/ow/dye</td>\n",
       "    </tr>\n",
       "  </tbody>\n",
       "</table>\n",
       "<p>467 rows × 2 columns</p>\n",
       "</div>"
      ],
      "text/plain": [
       "      Code                       Disease\n",
       "0    86152           Cell enumeration id\n",
       "1    86153  Cell enumeration phys interp\n",
       "2    86890      Autologous blood process\n",
       "3    86891   Autologous blood op salvage\n",
       "4    86927           Plasma fresh frozen\n",
       "..     ...                           ...\n",
       "462  73650            X-ray exam of heel\n",
       "463  73660          X-ray exam of toe(s)\n",
       "464  73700    Ct lower extremity w/o dye\n",
       "465  73701      Ct lower extremity w/dye\n",
       "466  73702     Ct lwr extremity w/ow/dye\n",
       "\n",
       "[467 rows x 2 columns]"
      ]
     },
     "execution_count": 4,
     "metadata": {},
     "output_type": "execute_result"
    }
   ],
   "source": [
    "df.head(467)\n"
   ]
  },
  {
   "cell_type": "markdown",
   "id": "b035a661",
   "metadata": {},
   "source": [
    "# A Bit Of Data Cleaning"
   ]
  },
  {
   "cell_type": "code",
   "execution_count": 102,
   "id": "e886a1e9",
   "metadata": {},
   "outputs": [],
   "source": [
    "import pandas as pd\n",
    "df = pd.read_csv('diseaseOne.csv')"
   ]
  },
  {
   "cell_type": "code",
   "execution_count": 103,
   "id": "70025536",
   "metadata": {},
   "outputs": [],
   "source": [
    "#Dropping whole columns that has ALL Nan values\n",
    "import pandas as pd\n",
    "df = df.dropna(axis=1, how='all')\n"
   ]
  },
  {
   "cell_type": "code",
   "execution_count": 104,
   "id": "1430fa51",
   "metadata": {},
   "outputs": [],
   "source": [
    "#Dropping Rows with Nan value (Whole row with whole na)\n",
    "import pandas as pd\n",
    "df = df.dropna()\n"
   ]
  },
  {
   "cell_type": "code",
   "execution_count": 106,
   "id": "779d2687",
   "metadata": {},
   "outputs": [],
   "source": [
    "# Removing operators/symbols from df\n",
    "import pandas as pd\n",
    "import re\n",
    "\n",
    "def remove_specific_characters(text):\n",
    "  # -<>/ NOT REMOVED as they provide meaning to the data\n",
    "    cleaned_text = re.sub(r'[$%#&@!]', '', str(text))\n",
    "    return cleaned_text\n",
    "\n",
    "\n",
    "df = df.applymap(remove_specific_characters)\n"
   ]
  },
  {
   "cell_type": "code",
   "execution_count": 107,
   "id": "544c3302",
   "metadata": {},
   "outputs": [],
   "source": [
    "\n",
    "import pandas as pd\n",
    "# Insert column names to the dataset to provide it meaning\n",
    "df = pd.read_csv(\"diseaseOne.csv\", header=None)\n",
    "df.columns = [\"Code\", \"Disease\"]  \n",
    "\n",
    "\n"
   ]
  },
  {
   "cell_type": "code",
   "execution_count": 108,
   "id": "530bb110",
   "metadata": {},
   "outputs": [],
   "source": [
    "\n",
    "#Removed first 2 unmeaningful rows from DS\n",
    "import pandas as pd\n",
    "\n",
    "df = df.drop([0, 0]).reset_index(drop=True)\n",
    "\n"
   ]
  },
  {
   "cell_type": "code",
   "execution_count": 109,
   "id": "35b09f3d",
   "metadata": {},
   "outputs": [
    {
     "data": {
      "text/html": [
       "<div>\n",
       "<style scoped>\n",
       "    .dataframe tbody tr th:only-of-type {\n",
       "        vertical-align: middle;\n",
       "    }\n",
       "\n",
       "    .dataframe tbody tr th {\n",
       "        vertical-align: top;\n",
       "    }\n",
       "\n",
       "    .dataframe thead th {\n",
       "        text-align: right;\n",
       "    }\n",
       "</style>\n",
       "<table border=\"1\" class=\"dataframe\">\n",
       "  <thead>\n",
       "    <tr style=\"text-align: right;\">\n",
       "      <th></th>\n",
       "      <th>Code</th>\n",
       "      <th>Disease</th>\n",
       "    </tr>\n",
       "  </thead>\n",
       "  <tbody>\n",
       "    <tr>\n",
       "      <th>0</th>\n",
       "      <td>86152</td>\n",
       "      <td>Cell enumeration id</td>\n",
       "    </tr>\n",
       "    <tr>\n",
       "      <th>1</th>\n",
       "      <td>86153</td>\n",
       "      <td>Cell enumeration phys interp</td>\n",
       "    </tr>\n",
       "    <tr>\n",
       "      <th>2</th>\n",
       "      <td>86890</td>\n",
       "      <td>Autologous blood process</td>\n",
       "    </tr>\n",
       "    <tr>\n",
       "      <th>3</th>\n",
       "      <td>86891</td>\n",
       "      <td>Autologous blood op salvage</td>\n",
       "    </tr>\n",
       "    <tr>\n",
       "      <th>4</th>\n",
       "      <td>86927</td>\n",
       "      <td>Plasma fresh frozen</td>\n",
       "    </tr>\n",
       "  </tbody>\n",
       "</table>\n",
       "</div>"
      ],
      "text/plain": [
       "    Code                       Disease\n",
       "0  86152           Cell enumeration id\n",
       "1  86153  Cell enumeration phys interp\n",
       "2  86890      Autologous blood process\n",
       "3  86891   Autologous blood op salvage\n",
       "4  86927           Plasma fresh frozen"
      ]
     },
     "execution_count": 109,
     "metadata": {},
     "output_type": "execute_result"
    }
   ],
   "source": [
    "df.head(5)"
   ]
  },
  {
   "cell_type": "code",
   "execution_count": 110,
   "id": "cd7d1b2e",
   "metadata": {},
   "outputs": [],
   "source": [
    "#Saved/Update the csv\n",
    "df.to_csv(\"diseaseOne.csv\", index=False) "
   ]
  },
  {
   "cell_type": "code",
   "execution_count": 111,
   "id": "032c25d3",
   "metadata": {},
   "outputs": [],
   "source": [
    "gt=pd.read_csv('diseaseOne.csv')"
   ]
  },
  {
   "cell_type": "code",
   "execution_count": 121,
   "id": "8c162af9",
   "metadata": {},
   "outputs": [
    {
     "data": {
      "text/html": [
       "<div>\n",
       "<style scoped>\n",
       "    .dataframe tbody tr th:only-of-type {\n",
       "        vertical-align: middle;\n",
       "    }\n",
       "\n",
       "    .dataframe tbody tr th {\n",
       "        vertical-align: top;\n",
       "    }\n",
       "\n",
       "    .dataframe thead th {\n",
       "        text-align: right;\n",
       "    }\n",
       "</style>\n",
       "<table border=\"1\" class=\"dataframe\">\n",
       "  <thead>\n",
       "    <tr style=\"text-align: right;\">\n",
       "      <th></th>\n",
       "      <th>Code</th>\n",
       "      <th>Disease</th>\n",
       "    </tr>\n",
       "  </thead>\n",
       "  <tbody>\n",
       "    <tr>\n",
       "      <th>0</th>\n",
       "      <td>86152</td>\n",
       "      <td>Cell enumeration id</td>\n",
       "    </tr>\n",
       "    <tr>\n",
       "      <th>1</th>\n",
       "      <td>86153</td>\n",
       "      <td>Cell enumeration phys interp</td>\n",
       "    </tr>\n",
       "    <tr>\n",
       "      <th>2</th>\n",
       "      <td>86890</td>\n",
       "      <td>Autologous blood process</td>\n",
       "    </tr>\n",
       "    <tr>\n",
       "      <th>3</th>\n",
       "      <td>86891</td>\n",
       "      <td>Autologous blood op salvage</td>\n",
       "    </tr>\n",
       "    <tr>\n",
       "      <th>4</th>\n",
       "      <td>86927</td>\n",
       "      <td>Plasma fresh frozen</td>\n",
       "    </tr>\n",
       "    <tr>\n",
       "      <th>...</th>\n",
       "      <td>...</td>\n",
       "      <td>...</td>\n",
       "    </tr>\n",
       "    <tr>\n",
       "      <th>912</th>\n",
       "      <td>77401</td>\n",
       "      <td>Radiation treatment delivery</td>\n",
       "    </tr>\n",
       "    <tr>\n",
       "      <th>913</th>\n",
       "      <td>77402</td>\n",
       "      <td>Radiation treatment delivery</td>\n",
       "    </tr>\n",
       "    <tr>\n",
       "      <th>914</th>\n",
       "      <td>77407</td>\n",
       "      <td>Radiation treatment delivery</td>\n",
       "    </tr>\n",
       "    <tr>\n",
       "      <th>915</th>\n",
       "      <td>77412</td>\n",
       "      <td>Radiation treatment delivery</td>\n",
       "    </tr>\n",
       "    <tr>\n",
       "      <th>916</th>\n",
       "      <td>77417</td>\n",
       "      <td>Radiology port film(s)</td>\n",
       "    </tr>\n",
       "  </tbody>\n",
       "</table>\n",
       "<p>917 rows × 2 columns</p>\n",
       "</div>"
      ],
      "text/plain": [
       "      Code                       Disease\n",
       "0    86152           Cell enumeration id\n",
       "1    86153  Cell enumeration phys interp\n",
       "2    86890      Autologous blood process\n",
       "3    86891   Autologous blood op salvage\n",
       "4    86927           Plasma fresh frozen\n",
       "..     ...                           ...\n",
       "912  77401  Radiation treatment delivery\n",
       "913  77402  Radiation treatment delivery\n",
       "914  77407  Radiation treatment delivery\n",
       "915  77412  Radiation treatment delivery\n",
       "916  77417        Radiology port film(s)\n",
       "\n",
       "[917 rows x 2 columns]"
      ]
     },
     "execution_count": 121,
     "metadata": {},
     "output_type": "execute_result"
    }
   ],
   "source": [
    "gt.head(917)"
   ]
  },
  {
   "cell_type": "code",
   "execution_count": 120,
   "id": "8f1d5fe8",
   "metadata": {},
   "outputs": [
    {
     "data": {
      "text/plain": [
       "(1101, 2)"
      ]
     },
     "execution_count": 120,
     "metadata": {},
     "output_type": "execute_result"
    }
   ],
   "source": [
    "gt.shape"
   ]
  },
  {
   "cell_type": "markdown",
   "id": "afaf22cb",
   "metadata": {},
   "source": [
    "# Search In Model & CSV (With Max Word)  --> Working"
   ]
  },
  {
   "cell_type": "code",
   "execution_count": 7,
   "id": "85b39064",
   "metadata": {},
   "outputs": [
    {
     "name": "stdout",
     "output_type": "stream",
     "text": [
      "Generated Response:\n",
      "The disease code with the most matched words is: 86153.\n"
     ]
    }
   ],
   "source": [
    "import pandas as pd\n",
    "from transformers import GPT2LMHeadModel, GPT2Tokenizer\n",
    "\n",
    "\n",
    "df = pd.read_csv(\"diseaseOne.csv\")\n",
    "\n",
    "disease_name_to_code = dict(zip(df[\"Disease\"], df[\"Code\"]))\n",
    "\n",
    "\n",
    "model = GPT2LMHeadModel.from_pretrained(\"gpt2\")\n",
    "tokenizer = GPT2Tokenizer.from_pretrained(\"gpt2\")\n",
    "\n",
    "\n",
    "user_input = \"Im having fever and i hate my Cell enumeration phys interp life Plasma fresh frozen and he is enumeration also good blood process\"\n",
    "\n",
    "\n",
    "max_matched_words = 0\n",
    "best_matching_disease_code = None\n",
    "\n",
    "\n",
    "user_input_tokens = user_input.lower().split()\n",
    "\n",
    "\n",
    "for disease_name, disease_id in disease_name_to_code.items():\n",
    "    disease_tokens = disease_name.lower().split()\n",
    "    matched_words = len(set(user_input_tokens).intersection(disease_tokens))\n",
    "    if matched_words > max_matched_words:\n",
    "        max_matched_words = matched_words\n",
    "        best_matching_disease_code = disease_id\n",
    "\n",
    "\n",
    "if not best_matching_disease_code:\n",
    "    model_input = \"Do you have information about \" + user_input\n",
    "    input_ids = tokenizer.encode(model_input, return_tensors=\"pt\")\n",
    "    model_response = model.generate(input_ids, max_length=100, num_return_sequences=1, no_repeat_ngram_size=2, top_k=50, top_p=0.95)\n",
    "    model_response_text = tokenizer.decode(model_response[0], skip_special_tokens=True)\n",
    "\n",
    "   \n",
    "    for disease_name in disease_name_to_code:\n",
    "        if disease_name.lower() in model_response_text.lower():\n",
    "            best_matching_disease_code = disease_name_to_code[disease_name]\n",
    "            break\n",
    "\n",
    "\n",
    "if best_matching_disease_code:\n",
    "    response = f\"The disease code with the most matched words is: {best_matching_disease_code}.\"\n",
    "else:\n",
    "    response = \"I couldn't find a matching disease code for your symptoms.\"\n",
    "\n",
    "\n",
    "print(\"Generated Response:\")\n",
    "print(response)\n"
   ]
  },
  {
   "cell_type": "markdown",
   "id": "d3ac975f",
   "metadata": {},
   "source": [
    "# Training GPT-2 (Finetuning With Dataset)"
   ]
  },
  {
   "cell_type": "code",
   "execution_count": 1,
   "id": "5ee670a8",
   "metadata": {},
   "outputs": [
    {
     "name": "stderr",
     "output_type": "stream",
     "text": [
      "C:\\Users\\omar.khan\\AppData\\Local\\anaconda3\\Lib\\site-packages\\transformers\\data\\datasets\\language_modeling.py:53: FutureWarning: This dataset will be removed from the library soon, preprocessing should be handled with the 🤗 Datasets library. You can have a look at this example script for pointers: https://github.com/huggingface/transformers/blob/main/examples/pytorch/language-modeling/run_mlm.py\n",
      "  warnings.warn(\n"
     ]
    },
    {
     "data": {
      "text/html": [
       "\n",
       "    <div>\n",
       "      \n",
       "      <progress value='20' max='20' style='width:300px; height:20px; vertical-align: middle;'></progress>\n",
       "      [20/20 02:31, Epoch 1/1]\n",
       "    </div>\n",
       "    <table border=\"1\" class=\"dataframe\">\n",
       "  <thead>\n",
       " <tr style=\"text-align: left;\">\n",
       "      <th>Step</th>\n",
       "      <th>Training Loss</th>\n",
       "    </tr>\n",
       "  </thead>\n",
       "  <tbody>\n",
       "  </tbody>\n",
       "</table><p>"
      ],
      "text/plain": [
       "<IPython.core.display.HTML object>"
      ]
     },
     "metadata": {},
     "output_type": "display_data"
    },
    {
     "data": {
      "text/plain": [
       "('fine-tuned-gpt2\\\\tokenizer_config.json',\n",
       " 'fine-tuned-gpt2\\\\special_tokens_map.json',\n",
       " 'fine-tuned-gpt2\\\\vocab.json',\n",
       " 'fine-tuned-gpt2\\\\merges.txt',\n",
       " 'fine-tuned-gpt2\\\\added_tokens.json')"
      ]
     },
     "execution_count": 1,
     "metadata": {},
     "output_type": "execute_result"
    }
   ],
   "source": [
    "import pandas as pd\n",
    "import torch\n",
    "from transformers import GPT2Tokenizer, GPT2LMHeadModel, TextDataset, DataCollatorForLanguageModeling, Trainer, TrainingArguments\n",
    "\n",
    "# Load your CSV data using pandas\n",
    "df = pd.read_csv(\"diseaseOne.csv\")  # Replace \"diseaseOne.csv\" with the path to your CSV file\n",
    "\n",
    "# Extract the text data and labels from the CSV\n",
    "data = df[\"Disease\"].tolist()  # Replace \"Disease\" with the name of the text column in your CSV\n",
    "labels = df[\"Code\"].tolist()  # Replace \"Code\" with the name of the label column in your CSV\n",
    "\n",
    "# Tokenize the data using the model's tokenizer\n",
    "tokenizer = GPT2Tokenizer.from_pretrained(\"gpt2\")\n",
    "data = [tokenizer.encode(text) for text in data]\n",
    "\n",
    "# Flatten the tokenized data into a single list\n",
    "flat_data = [item for sublist in data for item in sublist]\n",
    "\n",
    "# Create a dataset file with tokenized data\n",
    "with open(\"text_dataset.txt\", \"w\", encoding=\"utf-8\") as file:\n",
    "    for text_ids in data:\n",
    "        text = tokenizer.decode(text_ids)\n",
    "        file.write(text + \"\\n\")\n",
    "\n",
    "# Create a PyTorch dataset\n",
    "dataset = TextDataset(\n",
    "    tokenizer=tokenizer,\n",
    "    file_path=\"text_dataset.txt\",\n",
    "    block_size=128,\n",
    ")\n",
    "\n",
    "# Create a data collator for language modeling\n",
    "data_collator = DataCollatorForLanguageModeling(\n",
    "    tokenizer=tokenizer,\n",
    "    mlm=False,\n",
    ")\n",
    "\n",
    "# Load the pre-trained GPT-2 model\n",
    "model = GPT2LMHeadModel.from_pretrained(\"gpt2\")\n",
    "\n",
    "# Set up training arguments\n",
    "training_args = TrainingArguments(\n",
    "    output_dir=\"./fine-tuned-gpt2\",\n",
    "    overwrite_output_dir=True,\n",
    "    num_train_epochs=1,  # Adjust this as needed\n",
    "    per_device_train_batch_size=4,  # Adjust this as needed\n",
    "    save_steps=10_000,\n",
    "    save_total_limit=2,\n",
    ")\n",
    "\n",
    "# Initialize a Trainer instance\n",
    "trainer = Trainer(\n",
    "    model=model,\n",
    "    args=training_args,\n",
    "    data_collator=data_collator,\n",
    "    train_dataset=dataset,\n",
    ")\n",
    "\n",
    "# Fine-tune the model\n",
    "trainer.train()\n",
    "\n",
    "# Save the fine-tuned model\n",
    "model.save_pretrained(\"fine-tuned-gpt2\")\n",
    "tokenizer.save_pretrained(\"fine-tuned-gpt2\")\n"
   ]
  },
  {
   "cell_type": "markdown",
   "id": "ad650f34",
   "metadata": {},
   "source": [
    "# Testing GPT-2 With Disease Name As Input"
   ]
  },
  {
   "cell_type": "code",
   "execution_count": 12,
   "id": "c8b8abaa",
   "metadata": {},
   "outputs": [
    {
     "name": "stderr",
     "output_type": "stream",
     "text": [
      "The attention mask and the pad token id were not set. As a consequence, you may observe unexpected behavior. Please pass your input's `attention_mask` to obtain reliable results.\n",
      "Setting `pad_token_id` to `eos_token_id`:50256 for open-end generation.\n"
     ]
    },
    {
     "name": "stdout",
     "output_type": "stream",
     "text": [
      "Generated Response:\n",
      "Autologous blood op salvage ileum\n",
      "\n",
      "Liver transplant\n",
      "Cerebrovascular transplant ial\n",
      "Maternal transplant (cov)\n",
      "Fetal transplant/corticosteroid\n",
      "Tumor transplantation\n",
      "Nuclear transplant transplant or cortical transplant, or\n",
      "Neoplastic transplant(s) \n",
      "Vascular implant\n",
      "Ectopic transplant of the brain\n",
      "Brain transplant with a brain transplant and/or\n",
      "Bilateral brain implant ia\n",
      "Gastrointestinal transplant in the abdomen\n",
      "Hematocrit transplant to the liver\n",
      "Oral transplant for the kidney\n",
      "Pulmonary transplant on the thorax\n",
      "Radiologic transplant at the lung\n",
      "Surgical transplant after a pulmonary transplant\n"
     ]
    }
   ],
   "source": [
    "# Load the fine-tuned model and tokenizer\n",
    "model = GPT2LMHeadModel.from_pretrained(\"fine-tuned-gpt2\")\n",
    "tokenizer = GPT2Tokenizer.from_pretrained(\"fine-tuned-gpt2\")\n",
    "\n",
    "# User-provided input disease name\n",
    "user_input_disease_name = \"Autologous blood op salvage \"\n",
    "\n",
    "# Generate a response\n",
    "input_ids = tokenizer.encode(user_input_disease_name, return_tensors=\"pt\")\n",
    "output = model.generate(input_ids, max_length=200, num_return_sequences=1, no_repeat_ngram_size=2, top_k=50, top_p=0.95)\n",
    "\n",
    "# Extract and decode the generated response\n",
    "generated_response = tokenizer.decode(output[0], skip_special_tokens=True)\n",
    "\n",
    "# Print the generated response\n",
    "print(\"Generated Response:\")\n",
    "print(generated_response)\n"
   ]
  },
  {
   "cell_type": "code",
   "execution_count": 7,
   "id": "47ad250f",
   "metadata": {},
   "outputs": [],
   "source": [
    "df = pd.read_csv('diseaseOne.csv')"
   ]
  },
  {
   "cell_type": "code",
   "execution_count": 14,
   "id": "ee4d24a0",
   "metadata": {},
   "outputs": [
    {
     "data": {
      "text/html": [
       "<div>\n",
       "<style scoped>\n",
       "    .dataframe tbody tr th:only-of-type {\n",
       "        vertical-align: middle;\n",
       "    }\n",
       "\n",
       "    .dataframe tbody tr th {\n",
       "        vertical-align: top;\n",
       "    }\n",
       "\n",
       "    .dataframe thead th {\n",
       "        text-align: right;\n",
       "    }\n",
       "</style>\n",
       "<table border=\"1\" class=\"dataframe\">\n",
       "  <thead>\n",
       "    <tr style=\"text-align: right;\">\n",
       "      <th></th>\n",
       "      <th>Code</th>\n",
       "      <th>Disease</th>\n",
       "    </tr>\n",
       "  </thead>\n",
       "  <tbody>\n",
       "    <tr>\n",
       "      <th>0</th>\n",
       "      <td>86152</td>\n",
       "      <td>Cell enumeration id</td>\n",
       "    </tr>\n",
       "    <tr>\n",
       "      <th>1</th>\n",
       "      <td>86153</td>\n",
       "      <td>Cell enumeration phys interp</td>\n",
       "    </tr>\n",
       "    <tr>\n",
       "      <th>2</th>\n",
       "      <td>86890</td>\n",
       "      <td>Autologous blood process</td>\n",
       "    </tr>\n",
       "    <tr>\n",
       "      <th>3</th>\n",
       "      <td>86891</td>\n",
       "      <td>Autologous blood op salvage</td>\n",
       "    </tr>\n",
       "    <tr>\n",
       "      <th>4</th>\n",
       "      <td>86927</td>\n",
       "      <td>Plasma fresh frozen</td>\n",
       "    </tr>\n",
       "  </tbody>\n",
       "</table>\n",
       "</div>"
      ],
      "text/plain": [
       "    Code                       Disease\n",
       "0  86152           Cell enumeration id\n",
       "1  86153  Cell enumeration phys interp\n",
       "2  86890      Autologous blood process\n",
       "3  86891   Autologous blood op salvage\n",
       "4  86927           Plasma fresh frozen"
      ]
     },
     "execution_count": 14,
     "metadata": {},
     "output_type": "execute_result"
    }
   ],
   "source": [
    "df.head()"
   ]
  },
  {
   "cell_type": "markdown",
   "id": "fb7ac941",
   "metadata": {},
   "source": [
    "# Traning Bert For Prediction Now"
   ]
  },
  {
   "cell_type": "code",
   "execution_count": 16,
   "id": "ac6c5f41",
   "metadata": {},
   "outputs": [
    {
     "name": "stderr",
     "output_type": "stream",
     "text": [
      "Some weights of BertForSequenceClassification were not initialized from the model checkpoint at bert-base-uncased and are newly initialized: ['classifier.weight', 'classifier.bias']\n",
      "You should probably TRAIN this model on a down-stream task to be able to use it for predictions and inference.\n",
      "We strongly recommend passing in an `attention_mask` since your input_ids may be padded. See https://huggingface.co/docs/transformers/troubleshooting#incorrect-output-when-padding-tokens-arent-masked.\n"
     ]
    },
    {
     "data": {
      "text/html": [
       "\n",
       "    <div>\n",
       "      \n",
       "      <progress value='276' max='276' style='width:300px; height:20px; vertical-align: middle;'></progress>\n",
       "      [276/276 18:17, Epoch 1/1]\n",
       "    </div>\n",
       "    <table border=\"1\" class=\"dataframe\">\n",
       "  <thead>\n",
       " <tr style=\"text-align: left;\">\n",
       "      <th>Step</th>\n",
       "      <th>Training Loss</th>\n",
       "    </tr>\n",
       "  </thead>\n",
       "  <tbody>\n",
       "  </tbody>\n",
       "</table><p>"
      ],
      "text/plain": [
       "<IPython.core.display.HTML object>"
      ]
     },
     "metadata": {},
     "output_type": "display_data"
    },
    {
     "data": {
      "text/plain": [
       "('fine-tuned-bert\\\\tokenizer_config.json',\n",
       " 'fine-tuned-bert\\\\special_tokens_map.json',\n",
       " 'fine-tuned-bert\\\\vocab.txt',\n",
       " 'fine-tuned-bert\\\\added_tokens.json')"
      ]
     },
     "execution_count": 16,
     "metadata": {},
     "output_type": "execute_result"
    }
   ],
   "source": [
    "import pandas as pd\n",
    "import torch\n",
    "from transformers import BertTokenizer, BertForSequenceClassification, Trainer, TrainingArguments\n",
    "from sklearn.preprocessing import LabelEncoder\n",
    "\n",
    "# Load your CSV data using pandas\n",
    "df = pd.read_csv(\"diseaseOne.csv\")  # Replace with the path to your CSV file\n",
    "\n",
    "# Extract the text data and labels from the CSV\n",
    "disease_names = df[\"Disease\"].tolist()\n",
    "disease_codes = df[\"Code\"].tolist()\n",
    "\n",
    "# Tokenize the disease names\n",
    "tokenizer = BertTokenizer.from_pretrained(\"bert-base-uncased\")\n",
    "tokenized_inputs = tokenizer(disease_names, truncation=True, padding=True, return_tensors=\"pt\")\n",
    "\n",
    "# Use LabelEncoder to encode labels as integers\n",
    "label_encoder = LabelEncoder()\n",
    "labels = label_encoder.fit_transform(disease_codes)\n",
    "\n",
    "# Define the fine-tuned BERT model\n",
    "model = BertForSequenceClassification.from_pretrained(\"bert-base-uncased\", num_labels=len(label_encoder.classes_))\n",
    "\n",
    "# Set up training arguments\n",
    "training_args = TrainingArguments(\n",
    "    output_dir=\"./fine-tuned-bert\",\n",
    "    overwrite_output_dir=True,\n",
    "    num_train_epochs=1,  # Adjust as needed\n",
    "    per_device_train_batch_size=4,  # Adjust as needed\n",
    "    save_steps=10_000,\n",
    "    save_total_limit=2,\n",
    ")\n",
    "\n",
    "# Define a function to properly collate data\n",
    "def collate_fn(data):\n",
    "    input_ids, labels = zip(*data)\n",
    "    return {\n",
    "        'input_ids': torch.stack(input_ids),\n",
    "        'labels': torch.tensor(labels)\n",
    "    }\n",
    "\n",
    "# Initialize a Trainer instance\n",
    "trainer = Trainer(\n",
    "    model=model,\n",
    "    args=training_args,\n",
    "    data_collator=collate_fn,\n",
    "    train_dataset=list(zip(tokenized_inputs[\"input_ids\"], labels)),\n",
    ")\n",
    "\n",
    "# Fine-tune the model\n",
    "trainer.train()\n",
    "\n",
    "# Save the fine-tuned model\n",
    "model.save_pretrained(\"fine-tuned-bert\")\n",
    "tokenizer.save_pretrained(\"fine-tuned-bert\")\n"
   ]
  },
  {
   "cell_type": "code",
   "execution_count": 17,
   "id": "f5bb041c",
   "metadata": {},
   "outputs": [
    {
     "data": {
      "text/html": [
       "<div>\n",
       "<style scoped>\n",
       "    .dataframe tbody tr th:only-of-type {\n",
       "        vertical-align: middle;\n",
       "    }\n",
       "\n",
       "    .dataframe tbody tr th {\n",
       "        vertical-align: top;\n",
       "    }\n",
       "\n",
       "    .dataframe thead th {\n",
       "        text-align: right;\n",
       "    }\n",
       "</style>\n",
       "<table border=\"1\" class=\"dataframe\">\n",
       "  <thead>\n",
       "    <tr style=\"text-align: right;\">\n",
       "      <th></th>\n",
       "      <th>Code</th>\n",
       "      <th>Disease</th>\n",
       "    </tr>\n",
       "  </thead>\n",
       "  <tbody>\n",
       "    <tr>\n",
       "      <th>0</th>\n",
       "      <td>86152</td>\n",
       "      <td>Cell enumeration id</td>\n",
       "    </tr>\n",
       "    <tr>\n",
       "      <th>1</th>\n",
       "      <td>86153</td>\n",
       "      <td>Cell enumeration phys interp</td>\n",
       "    </tr>\n",
       "    <tr>\n",
       "      <th>2</th>\n",
       "      <td>86890</td>\n",
       "      <td>Autologous blood process</td>\n",
       "    </tr>\n",
       "    <tr>\n",
       "      <th>3</th>\n",
       "      <td>86891</td>\n",
       "      <td>Autologous blood op salvage</td>\n",
       "    </tr>\n",
       "    <tr>\n",
       "      <th>4</th>\n",
       "      <td>86927</td>\n",
       "      <td>Plasma fresh frozen</td>\n",
       "    </tr>\n",
       "  </tbody>\n",
       "</table>\n",
       "</div>"
      ],
      "text/plain": [
       "    Code                       Disease\n",
       "0  86152           Cell enumeration id\n",
       "1  86153  Cell enumeration phys interp\n",
       "2  86890      Autologous blood process\n",
       "3  86891   Autologous blood op salvage\n",
       "4  86927           Plasma fresh frozen"
      ]
     },
     "execution_count": 17,
     "metadata": {},
     "output_type": "execute_result"
    }
   ],
   "source": [
    "df.head()"
   ]
  },
  {
   "cell_type": "markdown",
   "id": "74b30d46",
   "metadata": {},
   "source": [
    "# Testing Bert With Disease Name As Input"
   ]
  },
  {
   "cell_type": "code",
   "execution_count": 6,
   "id": "97efb8f3",
   "metadata": {},
   "outputs": [
    {
     "name": "stdout",
     "output_type": "stream",
     "text": [
      "Disease Name: Heart first pass multiple\n",
      "Predicted Disease Code: A9570\n"
     ]
    }
   ],
   "source": [
    "from sklearn.preprocessing import LabelEncoder\n",
    "import torch\n",
    "import pandas as pd\n",
    "from transformers import BertTokenizer, BertForSequenceClassification\n",
    "\n",
    "# Load your CSV data using pandas\n",
    "df = pd.read_csv(\"diseaseOne.csv\")  # Replace with the path to your CSV file\n",
    "\n",
    "# Extract the text data and labels from the CSV\n",
    "disease_names = df[\"Disease\"].tolist()\n",
    "disease_codes = df[\"Code\"].tolist()\n",
    "\n",
    "# Train or load your BERT model here\n",
    "\n",
    "# Initialize a label encoder\n",
    "label_encoder = LabelEncoder()\n",
    "label_encoder.fit(disease_codes)\n",
    "\n",
    "# Define a function to predict the disease code\n",
    "def predict_disease_code(disease_name):\n",
    "    # Tokenize the input text\n",
    "    tokenizer = BertTokenizer.from_pretrained(\"bert-base-uncased\")\n",
    "    inputs = tokenizer(disease_name, return_tensors=\"pt\")\n",
    "\n",
    "    # Forward pass through your BERT model\n",
    "    outputs = model(**inputs)\n",
    "    logits = outputs.logits\n",
    "\n",
    "    # Get the predicted label\n",
    "    predicted_label = torch.argmax(logits, dim=1).item()\n",
    "\n",
    "    # Reverse the label encoding to get the disease code\n",
    "    predicted_disease_code = label_encoder.inverse_transform([predicted_label])[0]\n",
    "\n",
    "    return predicted_disease_code\n",
    "\n",
    "# Example usage:\n",
    "disease_name = \"Heart first pass multiple\"\n",
    "predicted_code = predict_disease_code(disease_name)\n",
    "print(f\"Disease Name: {disease_name}\")\n",
    "print(f\"Predicted Disease Code: {predicted_code}\")\n"
   ]
  },
  {
   "cell_type": "code",
   "execution_count": 7,
   "id": "a5135e13",
   "metadata": {},
   "outputs": [
    {
     "data": {
      "text/html": [
       "<div>\n",
       "<style scoped>\n",
       "    .dataframe tbody tr th:only-of-type {\n",
       "        vertical-align: middle;\n",
       "    }\n",
       "\n",
       "    .dataframe tbody tr th {\n",
       "        vertical-align: top;\n",
       "    }\n",
       "\n",
       "    .dataframe thead th {\n",
       "        text-align: right;\n",
       "    }\n",
       "</style>\n",
       "<table border=\"1\" class=\"dataframe\">\n",
       "  <thead>\n",
       "    <tr style=\"text-align: right;\">\n",
       "      <th></th>\n",
       "      <th>Code</th>\n",
       "      <th>Disease</th>\n",
       "    </tr>\n",
       "  </thead>\n",
       "  <tbody>\n",
       "    <tr>\n",
       "      <th>0</th>\n",
       "      <td>86152</td>\n",
       "      <td>Cell enumeration id</td>\n",
       "    </tr>\n",
       "    <tr>\n",
       "      <th>1</th>\n",
       "      <td>86153</td>\n",
       "      <td>Cell enumeration phys interp</td>\n",
       "    </tr>\n",
       "    <tr>\n",
       "      <th>2</th>\n",
       "      <td>86890</td>\n",
       "      <td>Autologous blood process</td>\n",
       "    </tr>\n",
       "    <tr>\n",
       "      <th>3</th>\n",
       "      <td>86891</td>\n",
       "      <td>Autologous blood op salvage</td>\n",
       "    </tr>\n",
       "    <tr>\n",
       "      <th>4</th>\n",
       "      <td>86927</td>\n",
       "      <td>Plasma fresh frozen</td>\n",
       "    </tr>\n",
       "    <tr>\n",
       "      <th>...</th>\n",
       "      <td>...</td>\n",
       "      <td>...</td>\n",
       "    </tr>\n",
       "    <tr>\n",
       "      <th>662</th>\n",
       "      <td>78472</td>\n",
       "      <td>Gated heart planar single</td>\n",
       "    </tr>\n",
       "    <tr>\n",
       "      <th>663</th>\n",
       "      <td>78473</td>\n",
       "      <td>Gated heart multiple</td>\n",
       "    </tr>\n",
       "    <tr>\n",
       "      <th>664</th>\n",
       "      <td>78481</td>\n",
       "      <td>Heart first pass single</td>\n",
       "    </tr>\n",
       "    <tr>\n",
       "      <th>665</th>\n",
       "      <td>78483</td>\n",
       "      <td>Heart first pass multiple</td>\n",
       "    </tr>\n",
       "    <tr>\n",
       "      <th>666</th>\n",
       "      <td>78491</td>\n",
       "      <td>Myocrd img pet 1std rst/strs</td>\n",
       "    </tr>\n",
       "  </tbody>\n",
       "</table>\n",
       "<p>667 rows × 2 columns</p>\n",
       "</div>"
      ],
      "text/plain": [
       "      Code                       Disease\n",
       "0    86152           Cell enumeration id\n",
       "1    86153  Cell enumeration phys interp\n",
       "2    86890      Autologous blood process\n",
       "3    86891   Autologous blood op salvage\n",
       "4    86927           Plasma fresh frozen\n",
       "..     ...                           ...\n",
       "662  78472     Gated heart planar single\n",
       "663  78473          Gated heart multiple\n",
       "664  78481       Heart first pass single\n",
       "665  78483     Heart first pass multiple\n",
       "666  78491  Myocrd img pet 1std rst/strs\n",
       "\n",
       "[667 rows x 2 columns]"
      ]
     },
     "execution_count": 7,
     "metadata": {},
     "output_type": "execute_result"
    }
   ],
   "source": [
    "df.head(667)\n"
   ]
  },
  {
   "cell_type": "code",
   "execution_count": null,
   "id": "12e180a2",
   "metadata": {},
   "outputs": [],
   "source": []
  }
 ],
 "metadata": {
  "kernelspec": {
   "display_name": "Python 3 (ipykernel)",
   "language": "python",
   "name": "python3"
  },
  "language_info": {
   "codemirror_mode": {
    "name": "ipython",
    "version": 3
   },
   "file_extension": ".py",
   "mimetype": "text/x-python",
   "name": "python",
   "nbconvert_exporter": "python",
   "pygments_lexer": "ipython3",
   "version": "3.11.5"
  }
 },
 "nbformat": 4,
 "nbformat_minor": 5
}
